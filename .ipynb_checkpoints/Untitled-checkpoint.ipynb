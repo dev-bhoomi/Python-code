{
 "cells": [
  {
   "cell_type": "code",
   "execution_count": 26,
   "id": "4a379abf",
   "metadata": {},
   "outputs": [
    {
     "name": "stdout",
     "output_type": "stream",
     "text": [
      "24\n",
      "not weird\n"
     ]
    }
   ],
   "source": [
    "n=int(input())\n",
    "if n%2!=0 or (n>=6 and n<=20):\n",
    "    print(\"weird\")\n",
    "else:\n",
    "    \n",
    "    print(\"not weird\")"
   ]
  },
  {
   "cell_type": "code",
   "execution_count": 27,
   "id": "26cbe14d",
   "metadata": {},
   "outputs": [
    {
     "name": "stdout",
     "output_type": "stream",
     "text": [
      "24\n",
      "not weird\n"
     ]
    }
   ],
   "source": [
    "n=int(input())\n",
    "if n%2!=0:\n",
    "    print(\"weird\");\n",
    "else:\n",
    "    if n>=2 and n<=5:\n",
    "        print(\"not weird\");\n",
    "    elif n>=6 and n<=20:\n",
    "            print(\"weird\")\n",
    "    elif n>20:\n",
    "        print(\"not weird\")"
   ]
  },
  {
   "cell_type": "code",
   "execution_count": 4,
   "id": "d69967e6",
   "metadata": {},
   "outputs": [
    {
     "name": "stdout",
     "output_type": "stream",
     "text": [
      "3\n",
      "5\n",
      "8\n",
      "-2\n",
      "15\n"
     ]
    }
   ],
   "source": [
    "a = int(input())\n",
    "b = int(input())\n",
    "sum=a+b;\n",
    "sub=a-b;\n",
    "mult=a*b;\n",
    "print(sum)\n",
    "print(sub)\n",
    "print(mult)\n",
    "    "
   ]
  },
  {
   "cell_type": "code",
   "execution_count": 8,
   "id": "51815e18",
   "metadata": {},
   "outputs": [
    {
     "name": "stdout",
     "output_type": "stream",
     "text": [
      "3\n",
      "0\n",
      "1\n",
      "4\n"
     ]
    }
   ],
   "source": [
    "n=int(input())\n",
    "for i in range(n):\n",
    "    print(i**2)"
   ]
  },
  {
   "cell_type": "code",
   "execution_count": 6,
   "id": "55caba0f",
   "metadata": {},
   "outputs": [
    {
     "name": "stdout",
     "output_type": "stream",
     "text": [
      "3\n",
      "123"
     ]
    }
   ],
   "source": [
    "n = int(input())\n",
    "for i in range(1,n+1):\n",
    "    print(i,end=\"\")"
   ]
  },
  {
   "cell_type": "code",
   "execution_count": 15,
   "id": "25f4b564",
   "metadata": {},
   "outputs": [
    {
     "name": "stdout",
     "output_type": "stream",
     "text": [
      "1\n",
      "1\n",
      "2\n",
      "3\n",
      "[[0, 0, 0], [0, 0, 1], [0, 0, 2], [0, 1, 0], [0, 1, 2], [1, 0, 0], [1, 0, 1], [1, 0, 2], [1, 1, 0], [1, 1, 2]]\n"
     ]
    }
   ],
   "source": [
    "x=int(input())\n",
    "y=int(input())\n",
    "z=int(input())\n",
    "n=int(input())\n",
    "y=[[i,j,k]\n",
    "   for i in range(0,x+1)\n",
    "   for j in range(0,y+1)\n",
    "   for k in range(0,z+1)\n",
    "   if j+j+k!=n\n",
    "  ]\n",
    "print(y)"
   ]
  },
  {
   "cell_type": "code",
   "execution_count": 6,
   "id": "e3c7f6b3",
   "metadata": {},
   "outputs": [
    {
     "name": "stdout",
     "output_type": "stream",
     "text": [
      "4\n",
      "chapak\n",
      "chapak\n",
      "chapak\n",
      "chapak\n"
     ]
    }
   ],
   "source": [
    "n=int(input())\n",
    "for i in range(n):\n",
    "    print(\"chapak\")"
   ]
  },
  {
   "cell_type": "code",
   "execution_count": 1,
   "id": "9ce63d38",
   "metadata": {},
   "outputs": [
    {
     "name": "stdout",
     "output_type": "stream",
     "text": [
      "hello\n"
     ]
    }
   ],
   "source": [
    "print(\"hello\")"
   ]
  },
  {
   "cell_type": "code",
   "execution_count": 7,
   "id": "474587c4",
   "metadata": {},
   "outputs": [
    {
     "name": "stdout",
     "output_type": "stream",
     "text": [
      "2\n",
      "3\n",
      "3\n",
      "2\n"
     ]
    }
   ],
   "source": [
    "x=int(input())\n",
    "y=int(input())\n",
    "temp=x   \n",
    "# temp=2\n",
    "x=y      \n",
    "# //x=3\n",
    "y=temp   \n",
    "# //y=2\n",
    "print(x)\n",
    "print(y)"
   ]
  },
  {
   "cell_type": "code",
   "execution_count": 8,
   "id": "53fb8dd0",
   "metadata": {},
   "outputs": [
    {
     "name": "stdout",
     "output_type": "stream",
     "text": [
      "4\n",
      "5\n",
      "5\n",
      "4\n"
     ]
    }
   ],
   "source": [
    "x=int(input())\n",
    "y=int(input())\n",
    "x,y=y,x\n",
    "print(x)\n",
    "print(y)"
   ]
  },
  {
   "cell_type": "code",
   "execution_count": 41,
   "id": "1fc70f54",
   "metadata": {},
   "outputs": [
    {
     "name": "stdout",
     "output_type": "stream",
     "text": [
      "8\n",
      "yes\n"
     ]
    }
   ],
   "source": [
    "for i in range(2,x):\n",
    "    if x%i==0:\n",
    "        print(\"yes\")\n",
    "        break\n",
    "    else:\n",
    "        print(\"no\")\n",
    "    "
   ]
  },
  {
   "cell_type": "code",
   "execution_count": 43,
   "id": "0f906515",
   "metadata": {},
   "outputs": [
    {
     "name": "stdout",
     "output_type": "stream",
     "text": [
      "yes\n"
     ]
    }
   ],
   "source": [
    "x=int(input())\n",
    "for i in range(2,num):\n",
    "    if num % i == 0:\n",
    "        print(\"yes\")\n",
    "        break\n",
    "    else:\n",
    "        print(\"no\")"
   ]
  },
  {
   "cell_type": "code",
   "execution_count": 48,
   "id": "6b11c8e3",
   "metadata": {},
   "outputs": [
    {
     "name": "stdout",
     "output_type": "stream",
     "text": [
      "yes\n"
     ]
    }
   ],
   "source": [
    "num=10\n",
    "for i in range(2,num):\n",
    "    if num % i == 0:\n",
    "        print(\"yes\")\n",
    "        break\n",
    "    else:\n",
    "        print(\"no\")"
   ]
  },
  {
   "cell_type": "markdown",
   "id": "f3b76aef",
   "metadata": {},
   "source": [
    "##### "
   ]
  },
  {
   "cell_type": "code",
   "execution_count": 61,
   "id": "6b568e2b",
   "metadata": {},
   "outputs": [
    {
     "name": "stdout",
     "output_type": "stream",
     "text": [
      "8\n",
      "prim\n"
     ]
    }
   ],
   "source": [
    "num=int(input())\n",
    "if num==1:\n",
    "    print(\"it is not a prime number\")\n",
    "if num>1:\n",
    "    for i in range(2,num):\n",
    "        if num % i == 0:\n",
    "            print(\"not a prim\")\n",
    "            break\n",
    "    else:\n",
    "        print(\"prime\")"
   ]
  },
  {
   "cell_type": "code",
   "execution_count": null,
   "id": "c65e6445",
   "metadata": {},
   "outputs": [],
   "source": []
  }
 ],
 "metadata": {
  "kernelspec": {
   "display_name": "Python 3",
   "language": "python",
   "name": "python3"
  },
  "language_info": {
   "codemirror_mode": {
    "name": "ipython",
    "version": 3
   },
   "file_extension": ".py",
   "mimetype": "text/x-python",
   "name": "python",
   "nbconvert_exporter": "python",
   "pygments_lexer": "ipython3",
   "version": "3.8.8"
  }
 },
 "nbformat": 4,
 "nbformat_minor": 5
}
