{
 "cells": [
  {
   "cell_type": "code",
   "execution_count": 26,
   "id": "4a379abf",
   "metadata": {},
   "outputs": [
    {
     "name": "stdout",
     "output_type": "stream",
     "text": [
      "24\n",
      "not weird\n"
     ]
    }
   ],
   "source": [
    "# If-Else Condition\n",
    "n=int(input())\n",
    "if n%2!=0 or (n>=6 and n<=20):\n",
    "    print(\"weird\")\n",
    "else:\n",
    "    \n",
    "    print(\"not weird\")"
   ]
  },
  {
   "cell_type": "code",
   "execution_count": 4,
   "id": "d69967e6",
   "metadata": {},
   "outputs": [
    {
     "name": "stdout",
     "output_type": "stream",
     "text": [
      "3\n",
      "5\n",
      "8\n",
      "-2\n",
      "15\n"
     ]
    }
   ],
   "source": [
    "# how to add,sub,and mult\n",
    "a = int(input())\n",
    "b = int(input())\n",
    "sum=a+b;\n",
    "sub=a-b;\n",
    "mult=a*b;\n",
    "print(sum)\n",
    "print(sub)\n",
    "print(mult)\n",
    "    "
   ]
  },
  {
   "cell_type": "code",
   "execution_count": 8,
   "id": "51815e18",
   "metadata": {},
   "outputs": [
    {
     "name": "stdout",
     "output_type": "stream",
     "text": [
      "3\n",
      "0\n",
      "1\n",
      "4\n"
     ]
    }
   ],
   "source": [
    "n=int(input())\n",
    "for i in range(n):\n",
    "    print(i**2)"
   ]
  },
  {
   "cell_type": "code",
   "execution_count": 6,
   "id": "55caba0f",
   "metadata": {},
   "outputs": [
    {
     "name": "stdout",
     "output_type": "stream",
     "text": [
      "3\n",
      "123"
     ]
    }
   ],
   "source": [
    "#series in one line\n",
    "n = int(input())\n",
    "for i in range(1,n+1):\n",
    "    print(i,end=\"\")"
   ]
  },
  {
   "cell_type": "code",
   "execution_count": 15,
   "id": "25f4b564",
   "metadata": {},
   "outputs": [
    {
     "name": "stdout",
     "output_type": "stream",
     "text": [
      "1\n",
      "1\n",
      "2\n",
      "3\n",
      "[[0, 0, 0], [0, 0, 1], [0, 0, 2], [0, 1, 0], [0, 1, 2], [1, 0, 0], [1, 0, 1], [1, 0, 2], [1, 1, 0], [1, 1, 2]]\n"
     ]
    }
   ],
   "source": [
    "x=int(input())\n",
    "y=int(input())\n",
    "z=int(input())\n",
    "n=int(input())\n",
    "y=[[i,j,k]\n",
    "   for i in range(0,x+1)\n",
    "   for j in range(0,y+1)\n",
    "   for k in range(0,z+1)\n",
    "   if j+j+k!=n\n",
    "  ]\n",
    "print(y)"
   ]
  },
  {
   "cell_type": "code",
   "execution_count": 1,
   "id": "9ce63d38",
   "metadata": {},
   "outputs": [
    {
     "name": "stdout",
     "output_type": "stream",
     "text": [
      "hello\n"
     ]
    }
   ],
   "source": [
    "#print hello\n",
    "print(\"hello\")"
   ]
  },
  {
   "cell_type": "code",
   "execution_count": 7,
   "id": "dc8a3929",
   "metadata": {},
   "outputs": [
    {
     "name": "stdout",
     "output_type": "stream",
     "text": [
      "2\n",
      "3\n",
      "3\n",
      "2\n"
     ]
    }
   ],
   "source": [
    "#  How To Swap 2 Numbers\n",
    "x=int(input())\n",
    "y=int(input())\n",
    "temp=x   \n",
    "# temp=2\n",
    "x=y      \n",
    "# //x=3\n",
    "y=temp   \n",
    "# //y=2\n",
    "print(x)\n",
    "print(y)"
   ]
  },
  {
   "cell_type": "code",
   "execution_count": 8,
   "id": "28c9c958",
   "metadata": {},
   "outputs": [
    {
     "name": "stdout",
     "output_type": "stream",
     "text": [
      "4\n",
      "5\n",
      "5\n",
      "4\n"
     ]
    }
   ],
   "source": [
    "#  How To Swap 2 Numbers\n",
    "x=int(input())\n",
    "y=int(input())\n",
    "x,y=y,x\n",
    "print(x)\n",
    "print(y)"
   ]
  },
  {
   "cell_type": "markdown",
   "id": "659cb657",
   "metadata": {},
   "source": [
    "##### "
   ]
  },
  {
   "cell_type": "code",
   "execution_count": 69,
   "id": "4d7261a7",
   "metadata": {},
   "outputs": [
    {
     "name": "stdout",
     "output_type": "stream",
     "text": [
      "11\n",
      "prime\n"
     ]
    }
   ],
   "source": [
    "#  How To Check A Number is Prime Or Not\n",
    "num=int(input())\n",
    "if num==1:\n",
    "    print(\"it is not a prime number\")\n",
    "if num>1:\n",
    "    for i in range(2,num):\n",
    "        if num % i == 0:\n",
    "            print(\"not a prim\")\n",
    "            break\n",
    "    else:\n",
    "        print(\"prime\")"
   ]
  },
  {
   "cell_type": "code",
   "execution_count": 94,
   "id": "06138d1b",
   "metadata": {},
   "outputs": [
    {
     "name": "stdout",
     "output_type": "stream",
     "text": [
      "3\n",
      "6\n"
     ]
    }
   ],
   "source": [
    "# How To Find Factorial of A Number\n",
    "num=int(input())\n",
    "x=1\n",
    "for i in range(1,num+1):\n",
    "    x=x*i \n",
    "print(x)\n",
    "\n",
    "# The reason the code only prints the final value of x after all iterations are completed is because the print(x) statement is outside of the for loop. In Python, the indentation level determines the scope of the code blocks. Statements that are indented inside the loop will execute in each iteration, while statements that are not indented to the same level as the loop will only execute after the loop has finished."
   ]
  },
  {
   "cell_type": "code",
   "execution_count": 108,
   "id": "fc74ba0a",
   "metadata": {},
   "outputs": [
    {
     "name": "stdout",
     "output_type": "stream",
     "text": [
      "1\n",
      "1\n",
      "2\n",
      "3\n",
      "5\n",
      "8\n",
      "13\n",
      "21\n",
      "34\n",
      "55\n",
      "89\n"
     ]
    }
   ],
   "source": [
    "# Print Fibonacci Series\n",
    "x=int(input())\n",
    "y=int(input())\n",
    "for i in range(1,10):\n",
    "    sum=x+y\n",
    "    print(sum)\n",
    "    x=y\n",
    "    y=sum"
   ]
  },
  {
   "cell_type": "code",
   "execution_count": 120,
   "id": "aa7a5066",
   "metadata": {},
   "outputs": [
    {
     "name": "stdout",
     "output_type": "stream",
     "text": [
      "15\n"
     ]
    }
   ],
   "source": [
    "# Find Sum Of Elements in an Array\n",
    "x=[1,2,3,4,5]\n",
    "sum=0\n",
    "for i in x:\n",
    "    sum=sum+i\n",
    "print(sum)"
   ]
  },
  {
   "cell_type": "code",
   "execution_count": 132,
   "id": "38be1ee1",
   "metadata": {},
   "outputs": [
    {
     "name": "stdout",
     "output_type": "stream",
     "text": [
      "2.3\n",
      "2.4\n",
      "4.699999999999999\n"
     ]
    }
   ],
   "source": [
    "# Add two numbers\n",
    "x=float(input())\n",
    "y=float(input())\n",
    "n=x+y\n",
    "print(n)"
   ]
  },
  {
   "cell_type": "code",
   "execution_count": 138,
   "id": "4af797d7",
   "metadata": {},
   "outputs": [
    {
     "name": "stdout",
     "output_type": "stream",
     "text": [
      "49\n",
      "7.0\n"
     ]
    }
   ],
   "source": [
    "# Find & calculate Square Root Program\n",
    "x=int(input())\n",
    "n=x**(1/2)\n",
    "print(n)"
   ]
  },
  {
   "cell_type": "code",
   "execution_count": 151,
   "id": "23674b9a",
   "metadata": {},
   "outputs": [
    {
     "name": "stdout",
     "output_type": "stream",
     "text": [
      "12.5\n",
      "5.5\n",
      "34.375\n"
     ]
    }
   ],
   "source": [
    "# Find area of triangle\n",
    "b=float(input())\n",
    "h=float(input())\n",
    "z=(1/2)*b*h\n",
    "print(z)"
   ]
  },
  {
   "cell_type": "code",
   "execution_count": 153,
   "id": "2f265447",
   "metadata": {},
   "outputs": [
    {
     "name": "stdout",
     "output_type": "stream",
     "text": [
      "5\n",
      "3.1056855\n"
     ]
    }
   ],
   "source": [
    "# Convert Kilometers to miles\n",
    "kilo=float(input())\n",
    "miles=kilo*0.6211371\n",
    "print(miles)"
   ]
  },
  {
   "cell_type": "code",
   "execution_count": 156,
   "id": "1e7e12cc",
   "metadata": {},
   "outputs": [
    {
     "name": "stdout",
     "output_type": "stream",
     "text": [
      "1\n",
      "positive\n"
     ]
    }
   ],
   "source": [
    "# Is a Number Positive Negative or Zero?\n",
    "n=float(input())\n",
    "if n==0:\n",
    "    print(\"zero\")\n",
    "elif n>0:\n",
    "    print(\"positive\")\n",
    "else:\n",
    "    print(\"negative\")\n"
   ]
  },
  {
   "cell_type": "code",
   "execution_count": 158,
   "id": "e7ac106e",
   "metadata": {},
   "outputs": [
    {
     "name": "stdout",
     "output_type": "stream",
     "text": [
      "3\n",
      "odd\n"
     ]
    }
   ],
   "source": [
    "# Is a Number Odd or Even?\n",
    "n=float(input())\n",
    "if n%2==0:\n",
    "    print(\"even\")\n",
    "else:\n",
    "    print(\"odd\")"
   ]
  },
  {
   "cell_type": "code",
   "execution_count": 164,
   "id": "7ecd8e68",
   "metadata": {},
   "outputs": [
    {
     "name": "stdout",
     "output_type": "stream",
     "text": [
      "2024\n",
      "Leap Year\n"
     ]
    }
   ],
   "source": [
    "# Leap Year\n",
    "n=int(input())\n",
    "if (n%400==0) and (n%100==0):\n",
    "    print(\"leap year\")\n",
    "elif (n%4==0) and (n%100!=0):\n",
    "    print(\"Leap Year\")\n",
    "else:\n",
    "    print(\"No leap year\")"
   ]
  },
  {
   "cell_type": "code",
   "execution_count": 182,
   "id": "eb5d2bc4",
   "metadata": {},
   "outputs": [
    {
     "name": "stdout",
     "output_type": "stream",
     "text": [
      "9\n",
      "8\n",
      "1\n",
      "9\n"
     ]
    }
   ],
   "source": [
    "# Find the Largest Among Three Numbers \n",
    "x=int(input())\n",
    "y=int(input())\n",
    "z=int(input())\n",
    "if x>y and x>z:\n",
    "    print(x)\n",
    "elif y>x and y>z:\n",
    "    print(y)\n",
    "else:\n",
    "    print(z)"
   ]
  },
  {
   "cell_type": "code",
   "execution_count": 195,
   "id": "0f623346",
   "metadata": {},
   "outputs": [
    {
     "name": "stdout",
     "output_type": "stream",
     "text": [
      "7\n"
     ]
    }
   ],
   "source": [
    "# Python Program to Generate a Random Number\n",
    "import random\n",
    "num = random.randint(0,10)\n",
    "print(num)"
   ]
  },
  {
   "cell_type": "code",
   "execution_count": 214,
   "id": "16f3acd6",
   "metadata": {},
   "outputs": [
    {
     "name": "stdout",
     "output_type": "stream",
     "text": [
      "10\n",
      "20\n",
      "11\n",
      "13\n",
      "17\n",
      "19\n"
     ]
    }
   ],
   "source": [
    "# Print all Prime Numbers in an Interval - Complete\n",
    "n=int(input())\n",
    "m=int(input())\n",
    "for num in range(n,m):\n",
    "    if num>1:\n",
    "        for i in range(2,num):\n",
    "            if num%i==0:\n",
    "                break\n",
    "        else:\n",
    "            print(num)"
   ]
  },
  {
   "cell_type": "code",
   "execution_count": 222,
   "id": "efc08cf0",
   "metadata": {},
   "outputs": [
    {
     "name": "stdout",
     "output_type": "stream",
     "text": [
      "150\n",
      "302.0\n"
     ]
    }
   ],
   "source": [
    "#  Convert Celsius To Fahrenheit\n",
    "n=float(input())\n",
    "x=(n*1.8)+32\n",
    "print(x)"
   ]
  },
  {
   "cell_type": "code",
   "execution_count": 244,
   "id": "9a1d3683",
   "metadata": {},
   "outputs": [
    {
     "name": "stdout",
     "output_type": "stream",
     "text": [
      "3\n",
      "6\n"
     ]
    }
   ],
   "source": [
    "n=int(input())\n",
    "x=1\n",
    "if n>0:\n",
    "    for i in range(1,n+1):  \n",
    "        x=x*i\n",
    "print(x)"
   ]
  },
  {
   "cell_type": "code",
   "execution_count": 254,
   "id": "b769d87b",
   "metadata": {},
   "outputs": [
    {
     "name": "stdout",
     "output_type": "stream",
     "text": [
      "10\n",
      "2\n",
      "10 x 1 = 2\n",
      "10 x 2 = 4\n",
      "10 x 3 = 6\n",
      "10 x 4 = 8\n",
      "10 x 5 = 10\n",
      "10 x 6 = 12\n",
      "10 x 7 = 14\n",
      "10 x 8 = 16\n",
      "10 x 9 = 18\n",
      "10 x 10 = 20\n"
     ]
    }
   ],
   "source": [
    "# Display the Multiplication Table \n",
    "n=int(input())\n",
    "m=int(input())\n",
    "x=1\n",
    "for i in range(1,n+1):\n",
    "    x=i*m\n",
    "    print(n,\"x\",i,\"=\",x)"
   ]
  },
  {
   "cell_type": "code",
   "execution_count": 295,
   "id": "c90f2c00",
   "metadata": {},
   "outputs": [
    {
     "name": "stdout",
     "output_type": "stream",
     "text": [
      "5\n",
      "15\n"
     ]
    }
   ],
   "source": [
    "# Find the Sum of Natural Numbers using the Python Program.\n",
    "n=int(input())\n",
    "x=0\n",
    "if n>=1:\n",
    "    for i in range(1,n+1):\n",
    "        x=x+i\n",
    "    print(x)\n",
    "    \n",
    "    "
   ]
  },
  {
   "cell_type": "code",
   "execution_count": 301,
   "id": "f1402d8e",
   "metadata": {},
   "outputs": [
    {
     "name": "stdout",
     "output_type": "stream",
     "text": [
      "10\n",
      "2\n",
      "2\n",
      "4\n",
      "6\n",
      "8\n"
     ]
    }
   ],
   "source": [
    "# Find Numbers Divisible by Another Number\n",
    "n=int(input())\n",
    "m=int(input())\n",
    "for i in range(1,n):\n",
    "    if i%m==0:\n",
    "        print(i)"
   ]
  },
  {
   "cell_type": "code",
   "execution_count": 306,
   "id": "955580d8",
   "metadata": {},
   "outputs": [
    {
     "name": "stdout",
     "output_type": "stream",
     "text": [
      "12\n",
      "the conversion of decimal number 12 is:\n",
      "0b1100 in binary\n",
      "0o14 in octal\n",
      "0xc in hexadecimal\n"
     ]
    }
   ],
   "source": [
    "# Convert Decimal to Binary, Octal, and Hexadecimal\n",
    "decimal=int(input())\n",
    "print(\"the conversion of decimal number\",decimal,\"is:\")\n",
    "print(bin(decimal),\"in binary\")\n",
    "print(oct(decimal),\"in octal\")\n",
    "print(hex(decimal),\"in hexadecimal\")\n"
   ]
  },
  {
   "cell_type": "code",
   "execution_count": 309,
   "id": "839ab22e",
   "metadata": {},
   "outputs": [
    {
     "name": "stdout",
     "output_type": "stream",
     "text": [
      "%\n",
      "37\n"
     ]
    }
   ],
   "source": [
    "# Python Find ASCII Value of Character Program \n",
    "char=str(input())\n",
    "print(ord(char))"
   ]
  },
  {
   "cell_type": "code",
   "execution_count": 315,
   "id": "0aa05dab",
   "metadata": {},
   "outputs": [
    {
     "name": "stdout",
     "output_type": "stream",
     "text": [
      "~~~~~~~~~~Mini Calculator~~~~~~~~~~~~~\n",
      "enter first number here:2\n",
      "enter second number here:2\n",
      "press 1 for addition \n",
      " press 2 for sub \n",
      " press 3 for mult \n",
      " press 4 for div\n",
      "enter your choice from 1-4:4\n",
      "1.0\n"
     ]
    }
   ],
   "source": [
    "# Python Program to Make a Simple Calculator\n",
    "print(\"~~~~~~~~~~Mini Calculator~~~~~~~~~~~~~\")\n",
    "num1=float(input(\"enter first number here:\"))\n",
    "num2=float(input(\"enter second number here:\"))\n",
    "print(\"press 1 for addition \\n press 2 for sub \\n press 3 for mult \\n press 4 for div\")\n",
    "choice=int(input(\"enter your choice from 1-4:\"))\n",
    "if choice == 1:\n",
    "    print(num1+num2)\n",
    "elif choice==2:\n",
    "    print(num1-num2)\n",
    "elif choice==3:\n",
    "    print(num1*num2)\n",
    "elif choice==4:\n",
    "    print(num1/num2)\n",
    "else:\n",
    "    print(\"invalid input\")"
   ]
  },
  {
   "cell_type": "code",
   "execution_count": 322,
   "id": "e75d0c2c",
   "metadata": {},
   "outputs": [
    {
     "name": "stdout",
     "output_type": "stream",
     "text": [
      "2024\n",
      "                                  2024\n",
      "\n",
      "      January                   February                   March\n",
      "Mo Tu We Th Fr Sa Su      Mo Tu We Th Fr Sa Su      Mo Tu We Th Fr Sa Su\n",
      " 1  2  3  4  5  6  7                1  2  3  4                   1  2  3\n",
      " 8  9 10 11 12 13 14       5  6  7  8  9 10 11       4  5  6  7  8  9 10\n",
      "15 16 17 18 19 20 21      12 13 14 15 16 17 18      11 12 13 14 15 16 17\n",
      "22 23 24 25 26 27 28      19 20 21 22 23 24 25      18 19 20 21 22 23 24\n",
      "29 30 31                  26 27 28 29               25 26 27 28 29 30 31\n",
      "\n",
      "       April                      May                       June\n",
      "Mo Tu We Th Fr Sa Su      Mo Tu We Th Fr Sa Su      Mo Tu We Th Fr Sa Su\n",
      " 1  2  3  4  5  6  7             1  2  3  4  5                      1  2\n",
      " 8  9 10 11 12 13 14       6  7  8  9 10 11 12       3  4  5  6  7  8  9\n",
      "15 16 17 18 19 20 21      13 14 15 16 17 18 19      10 11 12 13 14 15 16\n",
      "22 23 24 25 26 27 28      20 21 22 23 24 25 26      17 18 19 20 21 22 23\n",
      "29 30                     27 28 29 30 31            24 25 26 27 28 29 30\n",
      "\n",
      "        July                     August                  September\n",
      "Mo Tu We Th Fr Sa Su      Mo Tu We Th Fr Sa Su      Mo Tu We Th Fr Sa Su\n",
      " 1  2  3  4  5  6  7                1  2  3  4                         1\n",
      " 8  9 10 11 12 13 14       5  6  7  8  9 10 11       2  3  4  5  6  7  8\n",
      "15 16 17 18 19 20 21      12 13 14 15 16 17 18       9 10 11 12 13 14 15\n",
      "22 23 24 25 26 27 28      19 20 21 22 23 24 25      16 17 18 19 20 21 22\n",
      "29 30 31                  26 27 28 29 30 31         23 24 25 26 27 28 29\n",
      "                                                    30\n",
      "\n",
      "      October                   November                  December\n",
      "Mo Tu We Th Fr Sa Su      Mo Tu We Th Fr Sa Su      Mo Tu We Th Fr Sa Su\n",
      "    1  2  3  4  5  6                   1  2  3                         1\n",
      " 7  8  9 10 11 12 13       4  5  6  7  8  9 10       2  3  4  5  6  7  8\n",
      "14 15 16 17 18 19 20      11 12 13 14 15 16 17       9 10 11 12 13 14 15\n",
      "21 22 23 24 25 26 27      18 19 20 21 22 23 24      16 17 18 19 20 21 22\n",
      "28 29 30 31               25 26 27 28 29 30         23 24 25 26 27 28 29\n",
      "                                                    30 31\n",
      "\n"
     ]
    }
   ],
   "source": [
    "# Display Calendar in Python Programming\n",
    "import calendar\n",
    "year=int(input())\n",
    "calendar=calendar.calendar(year)\n",
    "print(calendar)\n"
   ]
  },
  {
   "cell_type": "code",
   "execution_count": 4,
   "id": "4d8542ed",
   "metadata": {},
   "outputs": [
    {
     "name": "stdout",
     "output_type": "stream",
     "text": [
      "2\n",
      "even\n"
     ]
    }
   ],
   "source": [
    "# Write a program to print the given number is odd or even.\n",
    "n=int(input())\n",
    "if n%2==0:\n",
    "    print(\"even\")\n",
    "else:\n",
    "    print(\"odd\")"
   ]
  },
  {
   "cell_type": "code",
   "execution_count": 9,
   "id": "8545ce1c",
   "metadata": {},
   "outputs": [
    {
     "name": "stdout",
     "output_type": "stream",
     "text": [
      "121\n",
      "yse it is palindrome\n"
     ]
    }
   ],
   "source": [
    "# Write a program to check if the given number is palindrome or not.\n",
    "n=input()\n",
    "reverse=n[::-1]\n",
    "if(n==reverse):\n",
    "    print(\"yes it is palindrome\")\n",
    "else:\n",
    "    print(\"no it is not palindrome\")\n"
   ]
  },
  {
   "cell_type": "code",
   "execution_count": 26,
   "id": "55379d79",
   "metadata": {},
   "outputs": [
    {
     "name": "stdout",
     "output_type": "stream",
     "text": [
      "123\n",
      "321\n",
      "Anagrams\n"
     ]
    }
   ],
   "source": [
    "# Write a program to check if the given strings are anagram or not.\n",
    "s1=input()\n",
    "s2=input()\n",
    "if(sorted(s1)==sorted(s2)):\n",
    "    print(\"Anagrams\")\n",
    "else:\n",
    "    print(\"Not anagrams\")"
   ]
  },
  {
   "cell_type": "code",
   "execution_count": 21,
   "id": "6e95973f",
   "metadata": {},
   "outputs": [
    {
     "name": "stdout",
     "output_type": "stream",
     "text": [
      "2\n",
      "3\n",
      "2\n"
     ]
    }
   ],
   "source": [
    "# Write a program to find a minimum of two numbers.\n",
    "n1=int(input())\n",
    "n2=int(input())\n",
    "if n1<=n2:\n",
    "    print(n1)\n",
    "else:\n",
    "    print(n2)"
   ]
  },
  {
   "cell_type": "code",
   "execution_count": 23,
   "id": "f2cc7996",
   "metadata": {},
   "outputs": [
    {
     "name": "stdout",
     "output_type": "stream",
     "text": [
      "Enter a number: 4\n",
      "Enter a number: 5\n",
      "Enter a number: 9\n",
      "9\n"
     ]
    }
   ],
   "source": [
    "# Write a program to find a maximum of three numbers.\n",
    "a = int(input(\"Enter a number: \"))\n",
    "b = int(input(\"Enter a number: \"))\n",
    "c = int(input(\"Enter a number: \"))\n",
    "if (a>=b) and (a>=c):\n",
    "    print(a)\n",
    "elif (b>=a) and (b>=c):\n",
    "    print(b)\n",
    "else:\n",
    "    print(c)"
   ]
  },
  {
   "cell_type": "code",
   "execution_count": 24,
   "id": "7c086b14",
   "metadata": {},
   "outputs": [
    {
     "name": "stdout",
     "output_type": "stream",
     "text": [
      "Enter a number: 9\n",
      "Enter a number: 0\n",
      "Enter a number: 1\n",
      "0\n"
     ]
    }
   ],
   "source": [
    "# Write a program to find a minimum of three numbers.\n",
    "a = int(input(\"Enter a number: \"))\n",
    "b = int(input(\"Enter a number: \"))\n",
    "c = int(input(\"Enter a number: \"))\n",
    "if (a<=b) and (a<=c):\n",
    "    print(a)\n",
    "elif (b<=a) and (b<=c):\n",
    "    print(b)\n",
    "else:\n",
    "    print(c)"
   ]
  },
  {
   "cell_type": "code",
   "execution_count": 32,
   "id": "36effd46",
   "metadata": {},
   "outputs": [
    {
     "name": "stdout",
     "output_type": "stream",
     "text": [
      "12\n",
      "8\n",
      "4\n"
     ]
    }
   ],
   "source": [
    "# Write a program to find GCD of two numbers.\n",
    "n1=int(input())\n",
    "n2=int(input())\n",
    "while n2>0:\n",
    "    r=n1%n2\n",
    "    n1=n2\n",
    "    n2=r\n",
    "gcd=n1\n",
    "print(n1)\n"
   ]
  },
  {
   "cell_type": "code",
   "execution_count": null,
   "id": "83b03bc1",
   "metadata": {},
   "outputs": [],
   "source": [
    "# Write a program to find a maximum of two numbers.\n",
    "n1=int(input())\n",
    "n2=int(input()) \n",
    "if n1>=n2:\n",
    "    print(n1) \n",
    "else: \n",
    "    print(n2)"
   ]
  }
 ],
 "metadata": {
  "kernelspec": {
   "display_name": "Python 3",
   "language": "python",
   "name": "python3"
  },
  "language_info": {
   "codemirror_mode": {
    "name": "ipython",
    "version": 3
   },
   "file_extension": ".py",
   "mimetype": "text/x-python",
   "name": "python",
   "nbconvert_exporter": "python",
   "pygments_lexer": "ipython3",
   "version": "3.8.8"
  }
 },
 "nbformat": 4,
 "nbformat_minor": 5
}
